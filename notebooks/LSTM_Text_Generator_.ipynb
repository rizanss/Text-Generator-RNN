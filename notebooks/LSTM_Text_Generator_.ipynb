{
  "nbformat": 4,
  "nbformat_minor": 0,
  "metadata": {
    "colab": {
      "provenance": [],
      "gpuType": "T4",
      "toc_visible": true
    },
    "kernelspec": {
      "name": "python3",
      "display_name": "Python 3"
    },
    "language_info": {
      "name": "python"
    },
    "accelerator": "GPU"
  },
  "cells": [
    {
      "cell_type": "code",
      "execution_count": 1,
      "metadata": {
        "colab": {
          "base_uri": "https://localhost:8080/",
          "height": 314
        },
        "id": "9FdfkIpSfVNB",
        "outputId": "4c297c2e-1fb2-4a4a-fb99-de48c79b2e49"
      },
      "outputs": [
        {
          "output_type": "error",
          "ename": "MessageError",
          "evalue": "Error: credential propagation was unsuccessful",
          "traceback": [
            "\u001b[0;31m---------------------------------------------------------------------------\u001b[0m",
            "\u001b[0;31mMessageError\u001b[0m                              Traceback (most recent call last)",
            "\u001b[0;32m<ipython-input-1-1408506528>\u001b[0m in \u001b[0;36m<cell line: 0>\u001b[0;34m()\u001b[0m\n\u001b[1;32m      1\u001b[0m \u001b[0;32mfrom\u001b[0m \u001b[0mgoogle\u001b[0m\u001b[0;34m.\u001b[0m\u001b[0mcolab\u001b[0m \u001b[0;32mimport\u001b[0m \u001b[0mdrive\u001b[0m\u001b[0;34m\u001b[0m\u001b[0;34m\u001b[0m\u001b[0m\n\u001b[0;32m----> 2\u001b[0;31m \u001b[0mdrive\u001b[0m\u001b[0;34m.\u001b[0m\u001b[0mmount\u001b[0m\u001b[0;34m(\u001b[0m\u001b[0;34m'/content/drive'\u001b[0m\u001b[0;34m)\u001b[0m\u001b[0;34m\u001b[0m\u001b[0;34m\u001b[0m\u001b[0m\n\u001b[0m",
            "\u001b[0;32m/usr/local/lib/python3.11/dist-packages/google/colab/drive.py\u001b[0m in \u001b[0;36mmount\u001b[0;34m(mountpoint, force_remount, timeout_ms, readonly)\u001b[0m\n\u001b[1;32m     98\u001b[0m \u001b[0;32mdef\u001b[0m \u001b[0mmount\u001b[0m\u001b[0;34m(\u001b[0m\u001b[0mmountpoint\u001b[0m\u001b[0;34m,\u001b[0m \u001b[0mforce_remount\u001b[0m\u001b[0;34m=\u001b[0m\u001b[0;32mFalse\u001b[0m\u001b[0;34m,\u001b[0m \u001b[0mtimeout_ms\u001b[0m\u001b[0;34m=\u001b[0m\u001b[0;36m120000\u001b[0m\u001b[0;34m,\u001b[0m \u001b[0mreadonly\u001b[0m\u001b[0;34m=\u001b[0m\u001b[0;32mFalse\u001b[0m\u001b[0;34m)\u001b[0m\u001b[0;34m:\u001b[0m\u001b[0;34m\u001b[0m\u001b[0;34m\u001b[0m\u001b[0m\n\u001b[1;32m     99\u001b[0m   \u001b[0;34m\"\"\"Mount your Google Drive at the specified mountpoint path.\"\"\"\u001b[0m\u001b[0;34m\u001b[0m\u001b[0;34m\u001b[0m\u001b[0m\n\u001b[0;32m--> 100\u001b[0;31m   return _mount(\n\u001b[0m\u001b[1;32m    101\u001b[0m       \u001b[0mmountpoint\u001b[0m\u001b[0;34m,\u001b[0m\u001b[0;34m\u001b[0m\u001b[0;34m\u001b[0m\u001b[0m\n\u001b[1;32m    102\u001b[0m       \u001b[0mforce_remount\u001b[0m\u001b[0;34m=\u001b[0m\u001b[0mforce_remount\u001b[0m\u001b[0;34m,\u001b[0m\u001b[0;34m\u001b[0m\u001b[0;34m\u001b[0m\u001b[0m\n",
            "\u001b[0;32m/usr/local/lib/python3.11/dist-packages/google/colab/drive.py\u001b[0m in \u001b[0;36m_mount\u001b[0;34m(mountpoint, force_remount, timeout_ms, ephemeral, readonly)\u001b[0m\n\u001b[1;32m    135\u001b[0m   )\n\u001b[1;32m    136\u001b[0m   \u001b[0;32mif\u001b[0m \u001b[0mephemeral\u001b[0m\u001b[0;34m:\u001b[0m\u001b[0;34m\u001b[0m\u001b[0;34m\u001b[0m\u001b[0m\n\u001b[0;32m--> 137\u001b[0;31m     _message.blocking_request(\n\u001b[0m\u001b[1;32m    138\u001b[0m         \u001b[0;34m'request_auth'\u001b[0m\u001b[0;34m,\u001b[0m\u001b[0;34m\u001b[0m\u001b[0;34m\u001b[0m\u001b[0m\n\u001b[1;32m    139\u001b[0m         \u001b[0mrequest\u001b[0m\u001b[0;34m=\u001b[0m\u001b[0;34m{\u001b[0m\u001b[0;34m'authType'\u001b[0m\u001b[0;34m:\u001b[0m \u001b[0;34m'dfs_ephemeral'\u001b[0m\u001b[0;34m}\u001b[0m\u001b[0;34m,\u001b[0m\u001b[0;34m\u001b[0m\u001b[0;34m\u001b[0m\u001b[0m\n",
            "\u001b[0;32m/usr/local/lib/python3.11/dist-packages/google/colab/_message.py\u001b[0m in \u001b[0;36mblocking_request\u001b[0;34m(request_type, request, timeout_sec, parent)\u001b[0m\n\u001b[1;32m    174\u001b[0m       \u001b[0mrequest_type\u001b[0m\u001b[0;34m,\u001b[0m \u001b[0mrequest\u001b[0m\u001b[0;34m,\u001b[0m \u001b[0mparent\u001b[0m\u001b[0;34m=\u001b[0m\u001b[0mparent\u001b[0m\u001b[0;34m,\u001b[0m \u001b[0mexpect_reply\u001b[0m\u001b[0;34m=\u001b[0m\u001b[0;32mTrue\u001b[0m\u001b[0;34m\u001b[0m\u001b[0;34m\u001b[0m\u001b[0m\n\u001b[1;32m    175\u001b[0m   )\n\u001b[0;32m--> 176\u001b[0;31m   \u001b[0;32mreturn\u001b[0m \u001b[0mread_reply_from_input\u001b[0m\u001b[0;34m(\u001b[0m\u001b[0mrequest_id\u001b[0m\u001b[0;34m,\u001b[0m \u001b[0mtimeout_sec\u001b[0m\u001b[0;34m)\u001b[0m\u001b[0;34m\u001b[0m\u001b[0;34m\u001b[0m\u001b[0m\n\u001b[0m",
            "\u001b[0;32m/usr/local/lib/python3.11/dist-packages/google/colab/_message.py\u001b[0m in \u001b[0;36mread_reply_from_input\u001b[0;34m(message_id, timeout_sec)\u001b[0m\n\u001b[1;32m    101\u001b[0m     ):\n\u001b[1;32m    102\u001b[0m       \u001b[0;32mif\u001b[0m \u001b[0;34m'error'\u001b[0m \u001b[0;32min\u001b[0m \u001b[0mreply\u001b[0m\u001b[0;34m:\u001b[0m\u001b[0;34m\u001b[0m\u001b[0;34m\u001b[0m\u001b[0m\n\u001b[0;32m--> 103\u001b[0;31m         \u001b[0;32mraise\u001b[0m \u001b[0mMessageError\u001b[0m\u001b[0;34m(\u001b[0m\u001b[0mreply\u001b[0m\u001b[0;34m[\u001b[0m\u001b[0;34m'error'\u001b[0m\u001b[0;34m]\u001b[0m\u001b[0;34m)\u001b[0m\u001b[0;34m\u001b[0m\u001b[0;34m\u001b[0m\u001b[0m\n\u001b[0m\u001b[1;32m    104\u001b[0m       \u001b[0;32mreturn\u001b[0m \u001b[0mreply\u001b[0m\u001b[0;34m.\u001b[0m\u001b[0mget\u001b[0m\u001b[0;34m(\u001b[0m\u001b[0;34m'data'\u001b[0m\u001b[0;34m,\u001b[0m \u001b[0;32mNone\u001b[0m\u001b[0;34m)\u001b[0m\u001b[0;34m\u001b[0m\u001b[0;34m\u001b[0m\u001b[0m\n\u001b[1;32m    105\u001b[0m \u001b[0;34m\u001b[0m\u001b[0m\n",
            "\u001b[0;31mMessageError\u001b[0m: Error: credential propagation was unsuccessful"
          ]
        }
      ],
      "source": [
        "from google.colab import drive\n",
        "drive.mount('/content/drive')"
      ]
    },
    {
      "cell_type": "markdown",
      "source": [
        "#Download Dataset (Shakespear)"
      ],
      "metadata": {
        "id": "novP7MBcgO2F"
      }
    },
    {
      "cell_type": "code",
      "source": [
        "!wget --no-check-certificate \\\n",
        "    https://raw.githubusercontent.com/karpathy/char-rnn/master/data/tinyshakespeare/input.txt \\\n",
        "    -O shakespeare.txt"
      ],
      "metadata": {
        "colab": {
          "base_uri": "https://localhost:8080/"
        },
        "id": "Q1jM8yu8f21s",
        "outputId": "28f70994-153b-4515-9f70-be6ff3788b8d"
      },
      "execution_count": null,
      "outputs": [
        {
          "output_type": "stream",
          "name": "stdout",
          "text": [
            "--2025-06-12 13:55:55--  https://raw.githubusercontent.com/karpathy/char-rnn/master/data/tinyshakespeare/input.txt\n",
            "Resolving raw.githubusercontent.com (raw.githubusercontent.com)... 185.199.111.133, 185.199.110.133, 185.199.108.133, ...\n",
            "Connecting to raw.githubusercontent.com (raw.githubusercontent.com)|185.199.111.133|:443... connected.\n",
            "HTTP request sent, awaiting response... 200 OK\n",
            "Length: 1115394 (1.1M) [text/plain]\n",
            "Saving to: ‘shakespeare.txt’\n",
            "\n",
            "shakespeare.txt     100%[===================>]   1.06M  --.-KB/s    in 0.05s   \n",
            "\n",
            "2025-06-12 13:55:55 (21.4 MB/s) - ‘shakespeare.txt’ saved [1115394/1115394]\n",
            "\n"
          ]
        }
      ]
    },
    {
      "cell_type": "markdown",
      "source": [
        "#Load Dataset"
      ],
      "metadata": {
        "id": "DxaZ0mcEgUIZ"
      }
    },
    {
      "cell_type": "code",
      "source": [
        "# Baca file teks yang sudah di-download\n",
        "with open('shakespeare.txt', 'r') as f:\n",
        "    text = f.read()\n",
        "\n",
        "print(\"Download berhasil!\")\n",
        "print(\"\\nBerikut 300 karakter pertama dari naskah Shakespeare:\\n\")\n",
        "print(text[:300])"
      ],
      "metadata": {
        "colab": {
          "base_uri": "https://localhost:8080/"
        },
        "id": "pJ2-EDeWf3z_",
        "outputId": "f9b56efe-7b35-4e6f-c484-1b99f3152291"
      },
      "execution_count": null,
      "outputs": [
        {
          "output_type": "stream",
          "name": "stdout",
          "text": [
            "Download berhasil!\n",
            "\n",
            "Berikut 300 karakter pertama dari naskah Shakespeare:\n",
            "\n",
            "First Citizen:\n",
            "Before we proceed any further, hear me speak.\n",
            "\n",
            "All:\n",
            "Speak, speak.\n",
            "\n",
            "First Citizen:\n",
            "You are all resolved rather to die than to famish?\n",
            "\n",
            "All:\n",
            "Resolved. resolved.\n",
            "\n",
            "First Citizen:\n",
            "First, you know Caius Marcius is chief enemy to the people.\n",
            "\n",
            "All:\n",
            "We know't, we know't.\n",
            "\n",
            "First Citizen:\n",
            "Let us\n"
          ]
        }
      ]
    },
    {
      "cell_type": "markdown",
      "source": [
        "#Exploratory Data Analysis (EDA)"
      ],
      "metadata": {
        "id": "QO-wNUGogXdQ"
      }
    },
    {
      "cell_type": "code",
      "source": [
        "# 'text' adalah variabel dari langkah sebelumnya yang berisi seluruh naskah\n",
        "\n",
        "# Bangun kosakata (karakter unik) dan urutkan\n",
        "chars = sorted(list(set(text)))\n",
        "vocab_size = len(chars)\n",
        "\n",
        "print(f'Total karakter dalam naskah: {len(text)}')\n",
        "print(f'Total karakter unik (kosakata): {vocab_size}')\n",
        "print('\\nBerikut adalah kosakata yang akan dipelajari model:')\n",
        "print(chars)"
      ],
      "metadata": {
        "colab": {
          "base_uri": "https://localhost:8080/"
        },
        "id": "DdP504Ydf5WH",
        "outputId": "1eeaac6e-7869-464e-f3cc-11d23f5eb76c"
      },
      "execution_count": null,
      "outputs": [
        {
          "output_type": "stream",
          "name": "stdout",
          "text": [
            "Total karakter dalam naskah: 1115394\n",
            "Total karakter unik (kosakata): 65\n",
            "\n",
            "Berikut adalah kosakata yang akan dipelajari model:\n",
            "['\\n', ' ', '!', '$', '&', \"'\", ',', '-', '.', '3', ':', ';', '?', 'A', 'B', 'C', 'D', 'E', 'F', 'G', 'H', 'I', 'J', 'K', 'L', 'M', 'N', 'O', 'P', 'Q', 'R', 'S', 'T', 'U', 'V', 'W', 'X', 'Y', 'Z', 'a', 'b', 'c', 'd', 'e', 'f', 'g', 'h', 'i', 'j', 'k', 'l', 'm', 'n', 'o', 'p', 'q', 'r', 's', 't', 'u', 'v', 'w', 'x', 'y', 'z']\n"
          ]
        }
      ]
    },
    {
      "cell_type": "code",
      "source": [
        "# Membuat kamus karakter -> integer\n",
        "char_to_int = {char: i for i, char in enumerate(chars)}\n",
        "\n",
        "# Membuat kamus integer -> karakter\n",
        "int_to_char = {i: char for i, char in enumerate(chars)}\n",
        "\n",
        "# Coba tes kamusnya\n",
        "print(\"\\nContoh mapping dari char_to_int:\")\n",
        "print(f\"'h' -> {char_to_int['h']}\")\n",
        "print(f\"'a' -> {char_to_int['a']}\")\n",
        "\n",
        "print(\"\\nContoh mapping dari int_to_char:\")\n",
        "print(f\"53 -> '{int_to_char[53]}'\")\n",
        "print(f\"46 -> '{int_to_char[46]}'\")"
      ],
      "metadata": {
        "colab": {
          "base_uri": "https://localhost:8080/"
        },
        "id": "Kt-Iw4snf8Rp",
        "outputId": "29be5b43-53e0-4b8e-ea5f-5ff716e212dc"
      },
      "execution_count": null,
      "outputs": [
        {
          "output_type": "stream",
          "name": "stdout",
          "text": [
            "\n",
            "Contoh mapping dari char_to_int:\n",
            "'h' -> 46\n",
            "'a' -> 39\n",
            "\n",
            "Contoh mapping dari int_to_char:\n",
            "53 -> 'o'\n",
            "46 -> 'h'\n"
          ]
        }
      ]
    },
    {
      "cell_type": "markdown",
      "source": [
        "##Linguistic EDA Summary\n",
        "\n",
        "* **Corpus Size:** Naskah yang akan kita gunakan sebagai bahan belajar terdiri dari [isi di sini, misal: 1,115,394] total karakter.\n",
        "* **Vocabulary Size:** \"Alfabet\" yang akan dipelajari oleh model kita terdiri dari **[isi di sini, misal: 65]** karakter unik, mencakup huruf kecil, huruf besar, spasi, tanda baca, dan karakter spesial lainnya.\n",
        "* **Mapping:** Kamus untuk translasi dua arah (`char <-> int`) telah berhasil dibuat. Ini adalah langkah fundamental untuk proses *vectorization* data teks kita di tahap selanjutnya."
      ],
      "metadata": {
        "id": "sO0eTPXYhCqD"
      }
    },
    {
      "cell_type": "markdown",
      "source": [
        "#Data Preprocessing"
      ],
      "metadata": {
        "id": "4bNqJLJUgd9J"
      }
    },
    {
      "cell_type": "code",
      "source": [
        "# 'text' adalah variabel dari Step 2, 'char_to_int' dari Step 3\n",
        "\n",
        "# Tentukan panjang setiap urutan \"soal\"\n",
        "seq_length = 100\n",
        "\n",
        "# Siapkan list kosong untuk menampung \"kartu latihan\"\n",
        "sequences = []\n",
        "labels = []\n",
        "\n",
        "# Proses pemotongan naskah\n",
        "for i in range(0, len(text) - seq_length, 1):\n",
        "    # Ambil 100 karakter sebagai input\n",
        "    input_seq = text[i:i + seq_length]\n",
        "\n",
        "    # Ambil 1 karakter setelahnya sebagai output\n",
        "    output_char = text[i + seq_length]\n",
        "\n",
        "    # Masukkan ke dalam list\n",
        "    sequences.append([char_to_int[char] for char in input_seq])\n",
        "    labels.append(char_to_int[output_char])\n",
        "\n",
        "# Hitung jumlah \"kartu latihan\" yang berhasil kita buat\n",
        "n_patterns = len(sequences)\n",
        "print(f\"Total 'kartu latihan' (pola) yang dibuat: {n_patterns}\")"
      ],
      "metadata": {
        "colab": {
          "base_uri": "https://localhost:8080/"
        },
        "id": "tj1KobS9f-P-",
        "outputId": "32005bab-1dea-46e9-a69f-6ee96d8466bf"
      },
      "execution_count": null,
      "outputs": [
        {
          "output_type": "stream",
          "name": "stdout",
          "text": [
            "Total 'kartu latihan' (pola) yang dibuat: 1115294\n"
          ]
        }
      ]
    },
    {
      "cell_type": "code",
      "source": [
        "import numpy as np\n",
        "from tensorflow.keras.utils import to_categorical\n",
        "\n",
        "# Ubah list input menjadi array NumPy\n",
        "X = np.reshape(sequences, (n_patterns, seq_length, 1))\n",
        "\n",
        "# Normalisasi nilai integer menjadi 0-1 (ini membantu proses belajar)\n",
        "X = X / float(vocab_size)\n",
        "\n",
        "# One-hot encode output (labels)\n",
        "y = to_categorical(labels)\n",
        "\n",
        "# Cek bentuk akhir dari data kita\n",
        "print(\"Bentuk akhir dari X (Input):\", X.shape)\n",
        "print(\"Bentuk akhir dari y (Output):\", y.shape)"
      ],
      "metadata": {
        "colab": {
          "base_uri": "https://localhost:8080/"
        },
        "id": "RS5Kg9THgCto",
        "outputId": "98982b11-6ce1-4542-d984-9feea7ff1f3f"
      },
      "execution_count": null,
      "outputs": [
        {
          "output_type": "stream",
          "name": "stdout",
          "text": [
            "Bentuk akhir dari X (Input): (1115294, 100, 1)\n",
            "Bentuk akhir dari y (Output): (1115294, 65)\n"
          ]
        }
      ]
    },
    {
      "cell_type": "markdown",
      "source": [
        "#Build Model"
      ],
      "metadata": {
        "id": "YPXngOjMghgv"
      }
    },
    {
      "cell_type": "code",
      "source": [
        "from tensorflow.keras.models import Sequential\n",
        "from tensorflow.keras.layers import LSTM, Dense, Dropout\n",
        "\n",
        "# --- Merakit Model Sequential ---\n",
        "model = Sequential([\n",
        "    # Layer 1: LSTM Pertama (Manajer Lapangan)\n",
        "    # Dia memproses karakter mentah.\n",
        "    # `return_sequences=True` adalah KUNCI. Ini memerintahkan layer ini\n",
        "    # untuk tidak hanya memberikan laporan akhir, tapi memberikan laporan\n",
        "    # di SETIAP langkah waktu (setiap karakter) ke layer selanjutnya.\n",
        "    LSTM(256, input_shape=(X.shape[1], X.shape[2]), return_sequences=True),\n",
        "    Dropout(0.2),\n",
        "\n",
        "    # Layer 2: LSTM Kedua (Manajer Senior)\n",
        "    # Dia tidak lagi melihat karakter. Dia menerima \"laporan urutan\"\n",
        "    # dari manajer lapangan dan mencari pola yang lebih besar.\n",
        "    LSTM(256),\n",
        "    Dropout(0.2),\n",
        "\n",
        "    # Layer 3: Output Layer (Panel Juri)\n",
        "    # Tetap sama, membuat keputusan akhir.\n",
        "    Dense(y.shape[1], activation='softmax')\n",
        "])"
      ],
      "metadata": {
        "colab": {
          "base_uri": "https://localhost:8080/"
        },
        "id": "Oz4qjlI9gHfd",
        "outputId": "c72de73a-5436-4e0a-ff70-8c411698c2a3"
      },
      "execution_count": null,
      "outputs": [
        {
          "output_type": "stream",
          "name": "stderr",
          "text": [
            "/usr/local/lib/python3.11/dist-packages/keras/src/layers/rnn/rnn.py:200: UserWarning: Do not pass an `input_shape`/`input_dim` argument to a layer. When using Sequential models, prefer using an `Input(shape)` object as the first layer in the model instead.\n",
            "  super().__init__(**kwargs)\n"
          ]
        }
      ]
    },
    {
      "cell_type": "code",
      "source": [
        "# Compile model\n",
        "model.compile(\n",
        "    loss='categorical_crossentropy',\n",
        "    optimizer='adam'\n",
        ")"
      ],
      "metadata": {
        "id": "JLu9cpDxgLka"
      },
      "execution_count": null,
      "outputs": []
    },
    {
      "cell_type": "code",
      "source": [
        "# Tampilkan ringkasan arsitektur model\n",
        "model.summary()"
      ],
      "metadata": {
        "colab": {
          "base_uri": "https://localhost:8080/",
          "height": 294
        },
        "id": "VyZryDeFgNLV",
        "outputId": "8d301c32-2b20-4da9-a52a-f634ce16b6c9"
      },
      "execution_count": null,
      "outputs": [
        {
          "output_type": "display_data",
          "data": {
            "text/plain": [
              "\u001b[1mModel: \"sequential\"\u001b[0m\n"
            ],
            "text/html": [
              "<pre style=\"white-space:pre;overflow-x:auto;line-height:normal;font-family:Menlo,'DejaVu Sans Mono',consolas,'Courier New',monospace\"><span style=\"font-weight: bold\">Model: \"sequential\"</span>\n",
              "</pre>\n"
            ]
          },
          "metadata": {}
        },
        {
          "output_type": "display_data",
          "data": {
            "text/plain": [
              "┏━━━━━━━━━━━━━━━━━━━━━━━━━━━━━━━━━┳━━━━━━━━━━━━━━━━━━━━━━━━┳━━━━━━━━━━━━━━━┓\n",
              "┃\u001b[1m \u001b[0m\u001b[1mLayer (type)                   \u001b[0m\u001b[1m \u001b[0m┃\u001b[1m \u001b[0m\u001b[1mOutput Shape          \u001b[0m\u001b[1m \u001b[0m┃\u001b[1m \u001b[0m\u001b[1m      Param #\u001b[0m\u001b[1m \u001b[0m┃\n",
              "┡━━━━━━━━━━━━━━━━━━━━━━━━━━━━━━━━━╇━━━━━━━━━━━━━━━━━━━━━━━━╇━━━━━━━━━━━━━━━┩\n",
              "│ lstm (\u001b[38;5;33mLSTM\u001b[0m)                     │ (\u001b[38;5;45mNone\u001b[0m, \u001b[38;5;34m100\u001b[0m, \u001b[38;5;34m256\u001b[0m)       │       \u001b[38;5;34m264,192\u001b[0m │\n",
              "├─────────────────────────────────┼────────────────────────┼───────────────┤\n",
              "│ dropout (\u001b[38;5;33mDropout\u001b[0m)               │ (\u001b[38;5;45mNone\u001b[0m, \u001b[38;5;34m100\u001b[0m, \u001b[38;5;34m256\u001b[0m)       │             \u001b[38;5;34m0\u001b[0m │\n",
              "├─────────────────────────────────┼────────────────────────┼───────────────┤\n",
              "│ lstm_1 (\u001b[38;5;33mLSTM\u001b[0m)                   │ (\u001b[38;5;45mNone\u001b[0m, \u001b[38;5;34m256\u001b[0m)            │       \u001b[38;5;34m525,312\u001b[0m │\n",
              "├─────────────────────────────────┼────────────────────────┼───────────────┤\n",
              "│ dropout_1 (\u001b[38;5;33mDropout\u001b[0m)             │ (\u001b[38;5;45mNone\u001b[0m, \u001b[38;5;34m256\u001b[0m)            │             \u001b[38;5;34m0\u001b[0m │\n",
              "├─────────────────────────────────┼────────────────────────┼───────────────┤\n",
              "│ dense (\u001b[38;5;33mDense\u001b[0m)                   │ (\u001b[38;5;45mNone\u001b[0m, \u001b[38;5;34m65\u001b[0m)             │        \u001b[38;5;34m16,705\u001b[0m │\n",
              "└─────────────────────────────────┴────────────────────────┴───────────────┘\n"
            ],
            "text/html": [
              "<pre style=\"white-space:pre;overflow-x:auto;line-height:normal;font-family:Menlo,'DejaVu Sans Mono',consolas,'Courier New',monospace\">┏━━━━━━━━━━━━━━━━━━━━━━━━━━━━━━━━━┳━━━━━━━━━━━━━━━━━━━━━━━━┳━━━━━━━━━━━━━━━┓\n",
              "┃<span style=\"font-weight: bold\"> Layer (type)                    </span>┃<span style=\"font-weight: bold\"> Output Shape           </span>┃<span style=\"font-weight: bold\">       Param # </span>┃\n",
              "┡━━━━━━━━━━━━━━━━━━━━━━━━━━━━━━━━━╇━━━━━━━━━━━━━━━━━━━━━━━━╇━━━━━━━━━━━━━━━┩\n",
              "│ lstm (<span style=\"color: #0087ff; text-decoration-color: #0087ff\">LSTM</span>)                     │ (<span style=\"color: #00d7ff; text-decoration-color: #00d7ff\">None</span>, <span style=\"color: #00af00; text-decoration-color: #00af00\">100</span>, <span style=\"color: #00af00; text-decoration-color: #00af00\">256</span>)       │       <span style=\"color: #00af00; text-decoration-color: #00af00\">264,192</span> │\n",
              "├─────────────────────────────────┼────────────────────────┼───────────────┤\n",
              "│ dropout (<span style=\"color: #0087ff; text-decoration-color: #0087ff\">Dropout</span>)               │ (<span style=\"color: #00d7ff; text-decoration-color: #00d7ff\">None</span>, <span style=\"color: #00af00; text-decoration-color: #00af00\">100</span>, <span style=\"color: #00af00; text-decoration-color: #00af00\">256</span>)       │             <span style=\"color: #00af00; text-decoration-color: #00af00\">0</span> │\n",
              "├─────────────────────────────────┼────────────────────────┼───────────────┤\n",
              "│ lstm_1 (<span style=\"color: #0087ff; text-decoration-color: #0087ff\">LSTM</span>)                   │ (<span style=\"color: #00d7ff; text-decoration-color: #00d7ff\">None</span>, <span style=\"color: #00af00; text-decoration-color: #00af00\">256</span>)            │       <span style=\"color: #00af00; text-decoration-color: #00af00\">525,312</span> │\n",
              "├─────────────────────────────────┼────────────────────────┼───────────────┤\n",
              "│ dropout_1 (<span style=\"color: #0087ff; text-decoration-color: #0087ff\">Dropout</span>)             │ (<span style=\"color: #00d7ff; text-decoration-color: #00d7ff\">None</span>, <span style=\"color: #00af00; text-decoration-color: #00af00\">256</span>)            │             <span style=\"color: #00af00; text-decoration-color: #00af00\">0</span> │\n",
              "├─────────────────────────────────┼────────────────────────┼───────────────┤\n",
              "│ dense (<span style=\"color: #0087ff; text-decoration-color: #0087ff\">Dense</span>)                   │ (<span style=\"color: #00d7ff; text-decoration-color: #00d7ff\">None</span>, <span style=\"color: #00af00; text-decoration-color: #00af00\">65</span>)             │        <span style=\"color: #00af00; text-decoration-color: #00af00\">16,705</span> │\n",
              "└─────────────────────────────────┴────────────────────────┴───────────────┘\n",
              "</pre>\n"
            ]
          },
          "metadata": {}
        },
        {
          "output_type": "display_data",
          "data": {
            "text/plain": [
              "\u001b[1m Total params: \u001b[0m\u001b[38;5;34m806,209\u001b[0m (3.08 MB)\n"
            ],
            "text/html": [
              "<pre style=\"white-space:pre;overflow-x:auto;line-height:normal;font-family:Menlo,'DejaVu Sans Mono',consolas,'Courier New',monospace\"><span style=\"font-weight: bold\"> Total params: </span><span style=\"color: #00af00; text-decoration-color: #00af00\">806,209</span> (3.08 MB)\n",
              "</pre>\n"
            ]
          },
          "metadata": {}
        },
        {
          "output_type": "display_data",
          "data": {
            "text/plain": [
              "\u001b[1m Trainable params: \u001b[0m\u001b[38;5;34m806,209\u001b[0m (3.08 MB)\n"
            ],
            "text/html": [
              "<pre style=\"white-space:pre;overflow-x:auto;line-height:normal;font-family:Menlo,'DejaVu Sans Mono',consolas,'Courier New',monospace\"><span style=\"font-weight: bold\"> Trainable params: </span><span style=\"color: #00af00; text-decoration-color: #00af00\">806,209</span> (3.08 MB)\n",
              "</pre>\n"
            ]
          },
          "metadata": {}
        },
        {
          "output_type": "display_data",
          "data": {
            "text/plain": [
              "\u001b[1m Non-trainable params: \u001b[0m\u001b[38;5;34m0\u001b[0m (0.00 B)\n"
            ],
            "text/html": [
              "<pre style=\"white-space:pre;overflow-x:auto;line-height:normal;font-family:Menlo,'DejaVu Sans Mono',consolas,'Courier New',monospace\"><span style=\"font-weight: bold\"> Non-trainable params: </span><span style=\"color: #00af00; text-decoration-color: #00af00\">0</span> (0.00 B)\n",
              "</pre>\n"
            ]
          },
          "metadata": {}
        }
      ]
    },
    {
      "cell_type": "markdown",
      "source": [
        "#Training Model"
      ],
      "metadata": {
        "id": "tlkKCQcogmrI"
      }
    },
    {
      "cell_type": "code",
      "source": [
        "from tensorflow.keras.callbacks import ModelCheckpoint\n",
        "\n",
        "# Tentukan nama file untuk menyimpan \"checkpoint\"\n",
        "filepath=\"/content/drive/My Drive/Colab_Checkpoints/model_weights_epoch_{epoch:02d}_loss_{loss:.4f}.keras\"\n",
        "\n",
        "# Buat callback ModelCheckpoint\n",
        "# - monitor='loss': kita pantau nilai loss\n",
        "# - verbose=1: tampilkan pesan waktu menyimpan\n",
        "# - save_best_only=True: hanya simpan jika loss-nya lebih baik dari sebelumnya\n",
        "# - mode='min': kita mau nilai loss sekecil mungkin\n",
        "checkpoint = ModelCheckpoint(filepath,\n",
        "                             monitor='loss',\n",
        "                             verbose=1,\n",
        "                             save_best_only=True,\n",
        "                             mode='min')\n",
        "callbacks_list = [checkpoint]\n",
        "\n",
        "# --- Mulai Proses Pelatihan Model ---\n",
        "# Kita akan latih untuk 20 epoch dulu, lo bisa tambah kalo mau\n",
        "history = model.fit(\n",
        "    X, y,\n",
        "    epochs=20,\n",
        "    batch_size=128,\n",
        "    callbacks=callbacks_list\n",
        ")"
      ],
      "metadata": {
        "colab": {
          "base_uri": "https://localhost:8080/"
        },
        "id": "8gY06pS_gOew",
        "outputId": "7bd376a8-d786-4e43-ed58-ff6fb5ad7757"
      },
      "execution_count": null,
      "outputs": [
        {
          "output_type": "stream",
          "name": "stdout",
          "text": [
            "Epoch 1/20\n",
            "\u001b[1m8713/8714\u001b[0m \u001b[32m━━━━━━━━━━━━━━━━━━━\u001b[0m\u001b[37m━\u001b[0m \u001b[1m0s\u001b[0m 30ms/step - loss: 2.9972\n",
            "Epoch 1: loss improved from inf to 2.77533, saving model to /content/drive/My Drive/Colab_Checkpoints/model_weights_epoch_01_loss_2.7753.keras\n",
            "\u001b[1m8714/8714\u001b[0m \u001b[32m━━━━━━━━━━━━━━━━━━━━\u001b[0m\u001b[37m\u001b[0m \u001b[1m262s\u001b[0m 30ms/step - loss: 2.9971\n",
            "Epoch 2/20\n",
            "\u001b[1m8713/8714\u001b[0m \u001b[32m━━━━━━━━━━━━━━━━━━━\u001b[0m\u001b[37m━\u001b[0m \u001b[1m0s\u001b[0m 30ms/step - loss: 2.4413\n",
            "Epoch 2: loss improved from 2.77533 to 2.38148, saving model to /content/drive/My Drive/Colab_Checkpoints/model_weights_epoch_02_loss_2.3815.keras\n",
            "\u001b[1m8714/8714\u001b[0m \u001b[32m━━━━━━━━━━━━━━━━━━━━\u001b[0m\u001b[37m\u001b[0m \u001b[1m261s\u001b[0m 30ms/step - loss: 2.4413\n",
            "Epoch 3/20\n",
            "\u001b[1m8713/8714\u001b[0m \u001b[32m━━━━━━━━━━━━━━━━━━━\u001b[0m\u001b[37m━\u001b[0m \u001b[1m0s\u001b[0m 30ms/step - loss: 2.2356\n",
            "Epoch 3: loss improved from 2.38148 to 2.20239, saving model to /content/drive/My Drive/Colab_Checkpoints/model_weights_epoch_03_loss_2.2024.keras\n",
            "\u001b[1m8714/8714\u001b[0m \u001b[32m━━━━━━━━━━━━━━━━━━━━\u001b[0m\u001b[37m\u001b[0m \u001b[1m262s\u001b[0m 30ms/step - loss: 2.2356\n",
            "Epoch 4/20\n",
            "\u001b[1m8713/8714\u001b[0m \u001b[32m━━━━━━━━━━━━━━━━━━━\u001b[0m\u001b[37m━\u001b[0m \u001b[1m0s\u001b[0m 30ms/step - loss: 2.1112\n",
            "Epoch 4: loss improved from 2.20239 to 2.09070, saving model to /content/drive/My Drive/Colab_Checkpoints/model_weights_epoch_04_loss_2.0907.keras\n",
            "\u001b[1m8714/8714\u001b[0m \u001b[32m━━━━━━━━━━━━━━━━━━━━\u001b[0m\u001b[37m\u001b[0m \u001b[1m259s\u001b[0m 30ms/step - loss: 2.1112\n",
            "Epoch 5/20\n",
            "\u001b[1m8713/8714\u001b[0m \u001b[32m━━━━━━━━━━━━━━━━━━━\u001b[0m\u001b[37m━\u001b[0m \u001b[1m0s\u001b[0m 30ms/step - loss: 2.0263\n",
            "Epoch 5: loss improved from 2.09070 to 2.01446, saving model to /content/drive/My Drive/Colab_Checkpoints/model_weights_epoch_05_loss_2.0145.keras\n",
            "\u001b[1m8714/8714\u001b[0m \u001b[32m━━━━━━━━━━━━━━━━━━━━\u001b[0m\u001b[37m\u001b[0m \u001b[1m259s\u001b[0m 30ms/step - loss: 2.0263\n",
            "Epoch 6/20\n",
            "\u001b[1m8713/8714\u001b[0m \u001b[32m━━━━━━━━━━━━━━━━━━━\u001b[0m\u001b[37m━\u001b[0m \u001b[1m0s\u001b[0m 30ms/step - loss: 1.9696\n",
            "Epoch 6: loss improved from 2.01446 to 1.95862, saving model to /content/drive/My Drive/Colab_Checkpoints/model_weights_epoch_06_loss_1.9586.keras\n",
            "\u001b[1m8714/8714\u001b[0m \u001b[32m━━━━━━━━━━━━━━━━━━━━\u001b[0m\u001b[37m\u001b[0m \u001b[1m263s\u001b[0m 30ms/step - loss: 1.9696\n",
            "Epoch 7/20\n",
            "\u001b[1m8712/8714\u001b[0m \u001b[32m━━━━━━━━━━━━━━━━━━━\u001b[0m\u001b[37m━\u001b[0m \u001b[1m0s\u001b[0m 30ms/step - loss: 1.9223\n",
            "Epoch 7: loss improved from 1.95862 to 1.91332, saving model to /content/drive/My Drive/Colab_Checkpoints/model_weights_epoch_07_loss_1.9133.keras\n",
            "\u001b[1m8714/8714\u001b[0m \u001b[32m━━━━━━━━━━━━━━━━━━━━\u001b[0m\u001b[37m\u001b[0m \u001b[1m261s\u001b[0m 30ms/step - loss: 1.9223\n",
            "Epoch 8/20\n",
            "\u001b[1m8713/8714\u001b[0m \u001b[32m━━━━━━━━━━━━━━━━━━━\u001b[0m\u001b[37m━\u001b[0m \u001b[1m0s\u001b[0m 30ms/step - loss: 1.8802\n",
            "Epoch 8: loss improved from 1.91332 to 1.87811, saving model to /content/drive/My Drive/Colab_Checkpoints/model_weights_epoch_08_loss_1.8781.keras\n",
            "\u001b[1m8714/8714\u001b[0m \u001b[32m━━━━━━━━━━━━━━━━━━━━\u001b[0m\u001b[37m\u001b[0m \u001b[1m262s\u001b[0m 30ms/step - loss: 1.8802\n",
            "Epoch 9/20\n",
            "\u001b[1m8712/8714\u001b[0m \u001b[32m━━━━━━━━━━━━━━━━━━━\u001b[0m\u001b[37m━\u001b[0m \u001b[1m0s\u001b[0m 30ms/step - loss: 1.8524\n",
            "Epoch 9: loss improved from 1.87811 to 1.84936, saving model to /content/drive/My Drive/Colab_Checkpoints/model_weights_epoch_09_loss_1.8494.keras\n",
            "\u001b[1m8714/8714\u001b[0m \u001b[32m━━━━━━━━━━━━━━━━━━━━\u001b[0m\u001b[37m\u001b[0m \u001b[1m263s\u001b[0m 30ms/step - loss: 1.8524\n",
            "Epoch 10/20\n",
            "\u001b[1m8713/8714\u001b[0m \u001b[32m━━━━━━━━━━━━━━━━━━━\u001b[0m\u001b[37m━\u001b[0m \u001b[1m0s\u001b[0m 30ms/step - loss: 1.8287\n",
            "Epoch 10: loss improved from 1.84936 to 1.82551, saving model to /content/drive/My Drive/Colab_Checkpoints/model_weights_epoch_10_loss_1.8255.keras\n",
            "\u001b[1m8714/8714\u001b[0m \u001b[32m━━━━━━━━━━━━━━━━━━━━\u001b[0m\u001b[37m\u001b[0m \u001b[1m262s\u001b[0m 30ms/step - loss: 1.8287\n",
            "Epoch 11/20\n",
            "\u001b[1m8713/8714\u001b[0m \u001b[32m━━━━━━━━━━━━━━━━━━━\u001b[0m\u001b[37m━\u001b[0m \u001b[1m0s\u001b[0m 30ms/step - loss: 1.8068\n",
            "Epoch 11: loss improved from 1.82551 to 1.80494, saving model to /content/drive/My Drive/Colab_Checkpoints/model_weights_epoch_11_loss_1.8049.keras\n",
            "\u001b[1m8714/8714\u001b[0m \u001b[32m━━━━━━━━━━━━━━━━━━━━\u001b[0m\u001b[37m\u001b[0m \u001b[1m260s\u001b[0m 30ms/step - loss: 1.8068\n",
            "Epoch 12/20\n",
            "\u001b[1m8713/8714\u001b[0m \u001b[32m━━━━━━━━━━━━━━━━━━━\u001b[0m\u001b[37m━\u001b[0m \u001b[1m0s\u001b[0m 30ms/step - loss: 1.7876\n",
            "Epoch 12: loss improved from 1.80494 to 1.78793, saving model to /content/drive/My Drive/Colab_Checkpoints/model_weights_epoch_12_loss_1.7879.keras\n",
            "\u001b[1m8714/8714\u001b[0m \u001b[32m━━━━━━━━━━━━━━━━━━━━\u001b[0m\u001b[37m\u001b[0m \u001b[1m261s\u001b[0m 30ms/step - loss: 1.7876\n",
            "Epoch 13/20\n",
            "\u001b[1m8713/8714\u001b[0m \u001b[32m━━━━━━━━━━━━━━━━━━━\u001b[0m\u001b[37m━\u001b[0m \u001b[1m0s\u001b[0m 30ms/step - loss: 1.7727\n",
            "Epoch 13: loss improved from 1.78793 to 1.77119, saving model to /content/drive/My Drive/Colab_Checkpoints/model_weights_epoch_13_loss_1.7712.keras\n",
            "\u001b[1m8714/8714\u001b[0m \u001b[32m━━━━━━━━━━━━━━━━━━━━\u001b[0m\u001b[37m\u001b[0m \u001b[1m261s\u001b[0m 30ms/step - loss: 1.7727\n",
            "Epoch 14/20\n",
            "\u001b[1m8713/8714\u001b[0m \u001b[32m━━━━━━━━━━━━━━━━━━━\u001b[0m\u001b[37m━\u001b[0m \u001b[1m0s\u001b[0m 30ms/step - loss: 1.7556\n",
            "Epoch 14: loss improved from 1.77119 to 1.75646, saving model to /content/drive/My Drive/Colab_Checkpoints/model_weights_epoch_14_loss_1.7565.keras\n",
            "\u001b[1m8714/8714\u001b[0m \u001b[32m━━━━━━━━━━━━━━━━━━━━\u001b[0m\u001b[37m\u001b[0m \u001b[1m261s\u001b[0m 30ms/step - loss: 1.7556\n",
            "Epoch 15/20\n",
            "\u001b[1m8713/8714\u001b[0m \u001b[32m━━━━━━━━━━━━━━━━━━━\u001b[0m\u001b[37m━\u001b[0m \u001b[1m0s\u001b[0m 30ms/step - loss: 1.7443\n",
            "Epoch 15: loss improved from 1.75646 to 1.74468, saving model to /content/drive/My Drive/Colab_Checkpoints/model_weights_epoch_15_loss_1.7447.keras\n",
            "\u001b[1m8714/8714\u001b[0m \u001b[32m━━━━━━━━━━━━━━━━━━━━\u001b[0m\u001b[37m\u001b[0m \u001b[1m263s\u001b[0m 30ms/step - loss: 1.7443\n",
            "Epoch 16/20\n",
            "\u001b[1m8712/8714\u001b[0m \u001b[32m━━━━━━━━━━━━━━━━━━━\u001b[0m\u001b[37m━\u001b[0m \u001b[1m0s\u001b[0m 30ms/step - loss: 1.7326\n",
            "Epoch 16: loss improved from 1.74468 to 1.73414, saving model to /content/drive/My Drive/Colab_Checkpoints/model_weights_epoch_16_loss_1.7341.keras\n",
            "\u001b[1m8714/8714\u001b[0m \u001b[32m━━━━━━━━━━━━━━━━━━━━\u001b[0m\u001b[37m\u001b[0m \u001b[1m321s\u001b[0m 30ms/step - loss: 1.7326\n",
            "Epoch 17/20\n",
            "\u001b[1m8713/8714\u001b[0m \u001b[32m━━━━━━━━━━━━━━━━━━━\u001b[0m\u001b[37m━\u001b[0m \u001b[1m0s\u001b[0m 30ms/step - loss: 1.7216\n",
            "Epoch 17: loss improved from 1.73414 to 1.72325, saving model to /content/drive/My Drive/Colab_Checkpoints/model_weights_epoch_17_loss_1.7233.keras\n",
            "\u001b[1m8714/8714\u001b[0m \u001b[32m━━━━━━━━━━━━━━━━━━━━\u001b[0m\u001b[37m\u001b[0m \u001b[1m261s\u001b[0m 30ms/step - loss: 1.7216\n",
            "Epoch 18/20\n",
            "\u001b[1m8713/8714\u001b[0m \u001b[32m━━━━━━━━━━━━━━━━━━━\u001b[0m\u001b[37m━\u001b[0m \u001b[1m0s\u001b[0m 30ms/step - loss: 1.7143\n",
            "Epoch 18: loss improved from 1.72325 to 1.71466, saving model to /content/drive/My Drive/Colab_Checkpoints/model_weights_epoch_18_loss_1.7147.keras\n",
            "\u001b[1m8714/8714\u001b[0m \u001b[32m━━━━━━━━━━━━━━━━━━━━\u001b[0m\u001b[37m\u001b[0m \u001b[1m261s\u001b[0m 30ms/step - loss: 1.7143\n",
            "Epoch 19/20\n",
            "\u001b[1m8713/8714\u001b[0m \u001b[32m━━━━━━━━━━━━━━━━━━━\u001b[0m\u001b[37m━\u001b[0m \u001b[1m0s\u001b[0m 30ms/step - loss: 1.7056\n",
            "Epoch 19: loss improved from 1.71466 to 1.70660, saving model to /content/drive/My Drive/Colab_Checkpoints/model_weights_epoch_19_loss_1.7066.keras\n",
            "\u001b[1m8714/8714\u001b[0m \u001b[32m━━━━━━━━━━━━━━━━━━━━\u001b[0m\u001b[37m\u001b[0m \u001b[1m262s\u001b[0m 30ms/step - loss: 1.7056\n",
            "Epoch 20/20\n",
            "\u001b[1m8713/8714\u001b[0m \u001b[32m━━━━━━━━━━━━━━━━━━━\u001b[0m\u001b[37m━\u001b[0m \u001b[1m0s\u001b[0m 30ms/step - loss: 1.6969\n",
            "Epoch 20: loss improved from 1.70660 to 1.69643, saving model to /content/drive/My Drive/Colab_Checkpoints/model_weights_epoch_20_loss_1.6964.keras\n",
            "\u001b[1m8714/8714\u001b[0m \u001b[32m━━━━━━━━━━━━━━━━━━━━\u001b[0m\u001b[37m\u001b[0m \u001b[1m261s\u001b[0m 30ms/step - loss: 1.6969\n"
          ]
        }
      ]
    },
    {
      "cell_type": "markdown",
      "source": [
        "#Test Model"
      ],
      "metadata": {
        "id": "ToONXGrDgthw"
      }
    },
    {
      "cell_type": "code",
      "source": [
        "import numpy as np\n",
        "import sys\n",
        "\n",
        "# Load model TERBAIK yang terakhir (loss 1.69)\n",
        "# Ganti nama file jika perlu\n",
        "best_model_filename = '/content/drive/My Drive/Colab_Checkpoints/model_3rd_train_loss_1.6290.keras'\n",
        "model.load_weights(best_model_filename)\n",
        "model.compile(loss='categorical_crossentropy', optimizer='adam')"
      ],
      "metadata": {
        "colab": {
          "base_uri": "https://localhost:8080/"
        },
        "id": "TxRtTZjIvm-P",
        "outputId": "e089ac39-60e8-4a7f-b14b-537536330222"
      },
      "execution_count": null,
      "outputs": [
        {
          "output_type": "stream",
          "name": "stderr",
          "text": [
            "/usr/local/lib/python3.11/dist-packages/keras/src/saving/saving_lib.py:757: UserWarning: Skipping variable loading for optimizer 'adam', because it has 2 variables whereas the saved optimizer has 18 variables. \n",
            "  saveable.load_own_variables(weights_store.get(inner_path))\n"
          ]
        }
      ]
    },
    {
      "cell_type": "code",
      "source": [
        "# --- Fungsi Generate Teks dengan \"Tombol Temperature\" ---\n",
        "def generate_text_with_temp(seed_pattern, temp=1.0, chars_to_gen=500):\n",
        "    print(f\"\\n--- Generating text with temperature: {temp} ---\")\n",
        "\n",
        "    pattern = seed_pattern\n",
        "    sys.stdout.write(\"\\\"\" + ''.join([int_to_char[value] for value in pattern]) + \"\\\"\")\n",
        "    sys.stdout.write(\"\\n\\nHasil Karya AI:\\n\")\n",
        "\n",
        "    for i in range(chars_to_gen):\n",
        "        x = np.reshape(pattern, (1, len(pattern), 1))\n",
        "        x = x / float(vocab_size)\n",
        "\n",
        "        # Prediksi probabilitas untuk semua karakter\n",
        "        preds = model.predict(x, verbose=0)[0]\n",
        "\n",
        "        # Di sinilah \"sihir\" temperature bekerja\n",
        "        preds = np.asarray(preds).astype('float64')\n",
        "        preds = np.log(preds) / temp\n",
        "        exp_preds = np.exp(preds)\n",
        "        preds = exp_preds / np.sum(exp_preds)\n",
        "\n",
        "        # Pilih karakter secara acak berdasarkan probabilitas yang baru\n",
        "        probas = np.random.multinomial(1, preds, 1)\n",
        "        index = np.argmax(probas)\n",
        "\n",
        "        result = int_to_char[index]\n",
        "        sys.stdout.write(result)\n",
        "\n",
        "        pattern.append(index)\n",
        "        pattern = pattern[1:len(pattern)]\n",
        "    print(\"\\n\\nDone.\")\n",
        "\n",
        "# --- Mari Kita Lakukan Eksperimen ---\n",
        "# Dapatkan satu \"umpan\" acak\n",
        "start = np.random.randint(0, len(sequences)-1)\n",
        "initial_pattern = sequences[start]\n",
        "\n",
        "# Coba dengan beberapa temperature berbeda\n",
        "generate_text_with_temp(list(initial_pattern), temp=0.2)\n",
        "generate_text_with_temp(list(initial_pattern), temp=0.5)\n",
        "generate_text_with_temp(list(initial_pattern), temp=1.0)\n",
        "generate_text_with_temp(list(initial_pattern), temp=1.2)"
      ],
      "metadata": {
        "colab": {
          "base_uri": "https://localhost:8080/"
        },
        "id": "QycFNPO-wBo0",
        "outputId": "ad38f284-8cfe-417f-c283-6dd1571708b9"
      },
      "execution_count": null,
      "outputs": [
        {
          "output_type": "stream",
          "name": "stdout",
          "text": [
            "\n",
            "--- Generating text with temperature: 0.2 ---\n",
            "\"e. Lend me thy hand,\n",
            "I'll help thee: come, lend me thy hand.\n",
            "\n",
            "AUTOLYCUS:\n",
            "O, good sir, tenderly, O!\n",
            "\n",
            "\"\n",
            "\n",
            "Hasil Karya AI:\n",
            "SICINIUS:\n",
            "H co not see the court"
          ]
        },
        {
          "output_type": "stream",
          "name": "stderr",
          "text": [
            "<ipython-input-14-1786571564>:18: RuntimeWarning: divide by zero encountered in log\n",
            "  preds = np.log(preds) / temp\n"
          ]
        },
        {
          "output_type": "stream",
          "name": "stdout",
          "text": [
            "e of the sortow shall be shall be a shall\n",
            "be to the sea to the company of the were and so war a that I have to\n",
            "the man of the courte of the house of the hand.\n",
            "\n",
            "SICINIUS:\n",
            "I co more sear the prince of the sunrd and the sente\n",
            "of the fortune of the well of the courte of the sene\n",
            "to the present of the fortune and men that shall be so\n",
            "that the company and the man so the wiile of the courte\n",
            "of the prove before that the prince of the secei\n",
            "to me and to the common siale of\n",
            "\n",
            "Done.\n",
            "\n",
            "--- Generating text with temperature: 0.5 ---\n",
            "\"e. Lend me thy hand,\n",
            "I'll help thee: come, lend me thy hand.\n",
            "\n",
            "AUTOLYCUS:\n",
            "O, good sir, tenderly, O!\n",
            "\n",
            "\"\n",
            "\n",
            "Hasil Karya AI:\n",
            "MISANDA:\n",
            "G shall not come to here to that your for the care. You, met him the\n",
            "suandsmes his houre to call me. though that\n",
            "is not to our countel so report the sortow in his soaree\n",
            "to the word to father as the brown nnt eor the\n",
            "tiru in the semve and for tseasons than a like perton\n",
            "to the warrent to the purpose of the srueas hrartised\n",
            "of the dear suill bouh to the bear of and so ar he\n",
            "pteycy in the countel and the from his time of the service.\n",
            "\n",
            "PROSPERO:\n",
            "What, then I co mote to see the toun.\n",
            "\n",
            "PETRU\n",
            "\n",
            "Done.\n",
            "\n",
            "--- Generating text with temperature: 1.0 ---\n",
            "\"e. Lend me thy hand,\n",
            "I'll help thee: come, lend me thy hand.\n",
            "\n",
            "AUTOLYCUS:\n",
            "O, good sir, tenderly, O!\n",
            "\n",
            "\"\n",
            "\n",
            "Hasil Karya AI:\n",
            "FSIIIRS:\n",
            "Oay, she far socak- it is vore his man teers\n",
            "With Rilet: al a be, promen dvin;\n",
            "Muro lif to uhich. for this man'c man\n",
            "I'll fuaud' and shall tn enter,d in have I have,\n",
            "Bomply dopuentinnd nrr pface to meann;\n",
            "Rarhelce, Mord Angelo,\n",
            "And I will ho to vien the holdle mean;\n",
            "F soun h' the last, and cvtsed iiv with Ginuge,\n",
            "Wou makes uhet it did dorte and soyal for\n",
            "onee more ashsennu,\n",
            "Aalivelds it, would not dlnend! Ch shamev ol; tuinl it,\n",
            "tie like oaw wanton;\n",
            "\n",
            "SAMPSON:\n",
            "Ast, good ciis; I cannot. f\n",
            "\n",
            "Done.\n",
            "\n",
            "--- Generating text with temperature: 1.2 ---\n",
            "\"e. Lend me thy hand,\n",
            "I'll help thee: come, lend me thy hand.\n",
            "\n",
            "AUTOLYCUS:\n",
            "O, good sir, tenderly, O!\n",
            "\n",
            "\"\n",
            "\n",
            "Hasil Karya AI:\n",
            "HULIIT:\n",
            "H wired uhere'br thoufh bouh lad how Rrcnpage,\n",
            "Womt not to eealt? tie peoiely vius had,-\n",
            "M' fiest thou doye her, indys I co tekl iifh:\n",
            "Bnmiitn it to owr head in have? your wenl-\n",
            "Strmaliigd onne knek to tn bome my ron.\n",
            "Goe goleen, atide; and have themsou' ho cutt- the\n",
            "gith hands, bay\n",
            "ort with affept' Cdwisg get' through let Milan Ietis\n",
            "what mew same to as my hnpodan uocler. they somndlcsed\n",
            "yhat it siall help cut hollate tiii Wit peceiu:\n",
            "The dertor, and him bhaoken'--mffn, ineeuse\n",
            "May,-sha\n",
            "\n",
            "Done.\n"
          ]
        }
      ]
    },
    {
      "cell_type": "markdown",
      "source": [
        "#Lanjut Process Training"
      ],
      "metadata": {
        "id": "QNlkvfuagwKd"
      }
    },
    {
      "cell_type": "code",
      "source": [
        "# --- Kita lanjutkan proses training ---\n",
        "\n",
        "# latih untuk 30 epoch tambahan.\n",
        "# `initial_epoch=20` memberi tahu model untuk memulai hitungan dari epoch ke-20,\n",
        "# jadi totalnya nanti akan jadi 50 epoch.\n",
        "marathon_history = model.fit(\n",
        "    X, y,\n",
        "    epochs=40,\n",
        "    initial_epoch=21,  # <-- Melanjutkan dari epoch 20\n",
        "    batch_size=128,\n",
        "    callbacks=callbacks_list\n",
        ")"
      ],
      "metadata": {
        "colab": {
          "base_uri": "https://localhost:8080/"
        },
        "id": "04QHm_8qMqiA",
        "outputId": "ec964ba5-f602-4d9b-96c2-af25ad12f1ec"
      },
      "execution_count": null,
      "outputs": [
        {
          "output_type": "stream",
          "name": "stdout",
          "text": [
            "Epoch 22/40\n",
            "\u001b[1m8714/8714\u001b[0m \u001b[32m━━━━━━━━━━━━━━━━━━━━\u001b[0m\u001b[37m\u001b[0m \u001b[1m0s\u001b[0m 30ms/step - loss: 1.6801\n",
            "Epoch 22: loss improved from 1.68986 to 1.68258, saving model to /content/drive/My Drive/Colab_Checkpoints/model_weights_epoch_22_loss_1.6826.keras\n",
            "\u001b[1m8714/8714\u001b[0m \u001b[32m━━━━━━━━━━━━━━━━━━━━\u001b[0m\u001b[37m\u001b[0m \u001b[1m259s\u001b[0m 30ms/step - loss: 1.6801\n",
            "Epoch 23/40\n",
            "\u001b[1m8713/8714\u001b[0m \u001b[32m━━━━━━━━━━━━━━━━━━━\u001b[0m\u001b[37m━\u001b[0m \u001b[1m0s\u001b[0m 30ms/step - loss: 1.6728\n",
            "Epoch 23: loss improved from 1.68258 to 1.67635, saving model to /content/drive/My Drive/Colab_Checkpoints/model_weights_epoch_23_loss_1.6763.keras\n",
            "\u001b[1m8714/8714\u001b[0m \u001b[32m━━━━━━━━━━━━━━━━━━━━\u001b[0m\u001b[37m\u001b[0m \u001b[1m261s\u001b[0m 30ms/step - loss: 1.6728\n",
            "Epoch 24/40\n",
            "\u001b[1m8713/8714\u001b[0m \u001b[32m━━━━━━━━━━━━━━━━━━━\u001b[0m\u001b[37m━\u001b[0m \u001b[1m0s\u001b[0m 30ms/step - loss: 1.6700\n",
            "Epoch 24: loss improved from 1.67635 to 1.67123, saving model to /content/drive/My Drive/Colab_Checkpoints/model_weights_epoch_24_loss_1.6712.keras\n",
            "\u001b[1m8714/8714\u001b[0m \u001b[32m━━━━━━━━━━━━━━━━━━━━\u001b[0m\u001b[37m\u001b[0m \u001b[1m262s\u001b[0m 30ms/step - loss: 1.6700\n",
            "Epoch 25/40\n",
            "\u001b[1m8713/8714\u001b[0m \u001b[32m━━━━━━━━━━━━━━━━━━━\u001b[0m\u001b[37m━\u001b[0m \u001b[1m0s\u001b[0m 30ms/step - loss: 1.6607\n",
            "Epoch 25: loss improved from 1.67123 to 1.66450, saving model to /content/drive/My Drive/Colab_Checkpoints/model_weights_epoch_25_loss_1.6645.keras\n",
            "\u001b[1m8714/8714\u001b[0m \u001b[32m━━━━━━━━━━━━━━━━━━━━\u001b[0m\u001b[37m\u001b[0m \u001b[1m261s\u001b[0m 30ms/step - loss: 1.6607\n",
            "Epoch 26/40\n",
            "\u001b[1m8713/8714\u001b[0m \u001b[32m━━━━━━━━━━━━━━━━━━━\u001b[0m\u001b[37m━\u001b[0m \u001b[1m0s\u001b[0m 30ms/step - loss: 1.6530\n",
            "Epoch 26: loss improved from 1.66450 to 1.65679, saving model to /content/drive/My Drive/Colab_Checkpoints/model_weights_epoch_26_loss_1.6568.keras\n",
            "\u001b[1m8714/8714\u001b[0m \u001b[32m━━━━━━━━━━━━━━━━━━━━\u001b[0m\u001b[37m\u001b[0m \u001b[1m262s\u001b[0m 30ms/step - loss: 1.6530\n",
            "Epoch 27/40\n",
            "\u001b[1m8712/8714\u001b[0m \u001b[32m━━━━━━━━━━━━━━━━━━━\u001b[0m\u001b[37m━\u001b[0m \u001b[1m0s\u001b[0m 30ms/step - loss: 1.6533\n",
            "Epoch 27: loss improved from 1.65679 to 1.65351, saving model to /content/drive/My Drive/Colab_Checkpoints/model_weights_epoch_27_loss_1.6535.keras\n",
            "\u001b[1m8714/8714\u001b[0m \u001b[32m━━━━━━━━━━━━━━━━━━━━\u001b[0m\u001b[37m\u001b[0m \u001b[1m261s\u001b[0m 30ms/step - loss: 1.6533\n",
            "Epoch 28/40\n",
            "\u001b[1m8712/8714\u001b[0m \u001b[32m━━━━━━━━━━━━━━━━━━━\u001b[0m\u001b[37m━\u001b[0m \u001b[1m0s\u001b[0m 30ms/step - loss: 1.6437\n",
            "Epoch 28: loss improved from 1.65351 to 1.64656, saving model to /content/drive/My Drive/Colab_Checkpoints/model_weights_epoch_28_loss_1.6466.keras\n",
            "\u001b[1m8714/8714\u001b[0m \u001b[32m━━━━━━━━━━━━━━━━━━━━\u001b[0m\u001b[37m\u001b[0m \u001b[1m262s\u001b[0m 30ms/step - loss: 1.6437\n",
            "Epoch 29/40\n",
            "\u001b[1m8713/8714\u001b[0m \u001b[32m━━━━━━━━━━━━━━━━━━━\u001b[0m\u001b[37m━\u001b[0m \u001b[1m0s\u001b[0m 30ms/step - loss: 1.6383\n",
            "Epoch 29: loss improved from 1.64656 to 1.64118, saving model to /content/drive/My Drive/Colab_Checkpoints/model_weights_epoch_29_loss_1.6412.keras\n",
            "\u001b[1m8714/8714\u001b[0m \u001b[32m━━━━━━━━━━━━━━━━━━━━\u001b[0m\u001b[37m\u001b[0m \u001b[1m260s\u001b[0m 30ms/step - loss: 1.6383\n",
            "Epoch 30/40\n",
            "\u001b[1m8712/8714\u001b[0m \u001b[32m━━━━━━━━━━━━━━━━━━━\u001b[0m\u001b[37m━\u001b[0m \u001b[1m0s\u001b[0m 30ms/step - loss: 1.6361\n",
            "Epoch 30: loss improved from 1.64118 to 1.63714, saving model to /content/drive/My Drive/Colab_Checkpoints/model_weights_epoch_30_loss_1.6371.keras\n",
            "\u001b[1m8714/8714\u001b[0m \u001b[32m━━━━━━━━━━━━━━━━━━━━\u001b[0m\u001b[37m\u001b[0m \u001b[1m265s\u001b[0m 30ms/step - loss: 1.6361\n",
            "Epoch 31/40\n",
            "\u001b[1m8713/8714\u001b[0m \u001b[32m━━━━━━━━━━━━━━━━━━━\u001b[0m\u001b[37m━\u001b[0m \u001b[1m0s\u001b[0m 31ms/step - loss: 1.6313\n",
            "Epoch 31: loss improved from 1.63714 to 1.63340, saving model to /content/drive/My Drive/Colab_Checkpoints/model_weights_epoch_31_loss_1.6334.keras\n",
            "\u001b[1m8714/8714\u001b[0m \u001b[32m━━━━━━━━━━━━━━━━━━━━\u001b[0m\u001b[37m\u001b[0m \u001b[1m325s\u001b[0m 31ms/step - loss: 1.6313\n",
            "Epoch 32/40\n",
            "\u001b[1m8713/8714\u001b[0m \u001b[32m━━━━━━━━━━━━━━━━━━━\u001b[0m\u001b[37m━\u001b[0m \u001b[1m0s\u001b[0m 30ms/step - loss: 1.6273\n",
            "Epoch 32: loss improved from 1.63340 to 1.62902, saving model to /content/drive/My Drive/Colab_Checkpoints/model_weights_epoch_32_loss_1.6290.keras\n",
            "\u001b[1m8714/8714\u001b[0m \u001b[32m━━━━━━━━━━━━━━━━━━━━\u001b[0m\u001b[37m\u001b[0m \u001b[1m262s\u001b[0m 30ms/step - loss: 1.6273\n",
            "Epoch 33/40\n",
            "\u001b[1m2477/8714\u001b[0m \u001b[32m━━━━━\u001b[0m\u001b[37m━━━━━━━━━━━━━━━\u001b[0m \u001b[1m3:06\u001b[0m 30ms/step - loss: 1.6153"
          ]
        }
      ]
    }
  ]
}